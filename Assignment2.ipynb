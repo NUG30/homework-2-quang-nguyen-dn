{
  "nbformat": 4,
  "nbformat_minor": 0,
  "metadata": {
    "colab": {
      "name": "Assignment2.ipynb",
      "provenance": [],
      "collapsed_sections": [],
      "include_colab_link": true
    },
    "kernelspec": {
      "name": "python3",
      "display_name": "Python 3"
    }
  },
  "cells": [
    {
      "cell_type": "markdown",
      "metadata": {
        "id": "view-in-github",
        "colab_type": "text"
      },
      "source": [
        "<a href=\"https://colab.research.google.com/github/NUG30/homework-2-quang-nguyen-dn/blob/main/Assignment2.ipynb\" target=\"_parent\"><img src=\"https://colab.research.google.com/assets/colab-badge.svg\" alt=\"Open In Colab\"/></a>"
      ]
    },
    {
      "cell_type": "markdown",
      "metadata": {
        "id": "hwTPfD-_mGwe"
      },
      "source": [
        "# Homework 2: Naive Bayes Email Spam Filter\n",
        "\n",
        "In this homework, we will learn how to implement the Naive Bayes classifier in order to create a simple email spam filter. This spam filter will be trained by test_emails, which will be given by a vector of tuples (emails, spam/nospam). For each tuple the first entry is a string (\"email\"), and the second entry is 0 or 1, depending whether the email contains spam words."
      ]
    },
    {
      "cell_type": "code",
      "metadata": {
        "id": "LcYY9uEZ8NNA"
      },
      "source": [
        "dictionary = ['hello', 'students', 'please', 'learn', 'for', 'the', 'exam', 'buy', 'drugs', 'today', 'sun', 'is', 'shining', 'in', 'nagoya', 'lets', 'sell', 'how', 'are', 'you', 'today?', 'do', 'your', 'homework', 'want', 'free', 'solutions?', 'hey', 'always', 'ask', 'questions', 'if','have', 'any', 'math', 'not', 'good', 'submit', 'pay'] \n",
        "\n",
        "test_emails=[\n",
        "             [\"hello students, please learn for the exam\", 0],\n",
        "             [\"hello students, please buy drugs\", 1],    \n",
        "             [\"hello, today the sun is shining in nagoya\", 0],\n",
        "             [\"lets sell drugs in nagoya\", 1],\n",
        "             [\"today learn drugs\", 1],\n",
        "             [\"how are you today?\", 0],\n",
        "             [\"hello students, please do your homework\", 0],\n",
        "             [\"hello, do you want free homework solutions?\", 1],\n",
        "             [\"hey students, please always ask questions if you have any\", 0],\n",
        "             [\"math is not good\", 1],\n",
        "             [\"math is good\", 0],\n",
        "             [\"please submit your homework\", 0],\n",
        "             [\"please buy questions\", 1],\n",
        "             [\"please pay for the exam\", 1]          \n",
        "             ]\n",
        "\n",
        "d = len(dictionary)\n",
        "n = len(test_emails)"
      ],
      "execution_count": null,
      "outputs": []
    },
    {
      "cell_type": "markdown",
      "metadata": {
        "id": "-7_jFoKsHlXZ"
      },
      "source": [
        "The feature space for our spam filter will be $\\mathcal{X}=\\{0,1\\}^d$, where $d$ denotes the number of words in the dictionary. For a feature (email) $x \\in \\mathcal{X}$ the entry $x_i$ for $i=1,\\dots,d$ is $1$ if the $i$-th word of the dictionary is contained in the email and $0$ otherwise.  "
      ]
    },
    {
      "cell_type": "markdown",
      "metadata": {
        "id": "ihFEvEcCHI6y"
      },
      "source": [
        "# **Exercise 1**\n",
        "Implement a function which creates a feature vector out of an email and a function which creates a training set out of test emails. \n",
        "\n",
        "You would need to figure out whether a sentence contains a word, and there are functions in Python that could determine whether a string contains another string. You can consult documentation (and Google) to find out."
      ]
    },
    {
      "cell_type": "code",
      "metadata": {
        "id": "YcrE1LTy8mjy"
      },
      "source": [
        "import numpy as np\n",
        "def email_to_feature(ldict, email):\n",
        "  x = np.zeros(d, int)       # numpy array VS list\n",
        "  for i in range(d):\n",
        "    if ldict[i] in email: x[i] = 1\n",
        "  return x\n",
        "\n",
        "def emails_to_test_samples(ldict, test_emails):\n",
        "  X = np.empty((n, d), int)\n",
        "  Y = np.empty(n, int)\n",
        "  for i in range(n):\n",
        "    X[i] = email_to_feature(ldict, test_emails[i][0])\n",
        "    Y[i] = test_emails[i][1]\n",
        "  return X, Y"
      ],
      "execution_count": null,
      "outputs": []
    },
    {
      "cell_type": "markdown",
      "metadata": {
        "id": "DzUtdPFZ_1vR"
      },
      "source": [
        " **Recall from Lecture 6:**\n",
        "\n",
        "Given a training set  $\\mathcal{T} = \\left( (x^{(1)}, y^{(1)}) , \\dots, (x^{(n)}, y^{(n)})   \\right)$ we calculate for $i=1,\\dots,d$ the following numbers\n",
        "\\begin{align*}\n",
        "\\phi_{i\\mid y=1} &= \\frac{1+\\sum_{j=1}^n I(x^{(j)}_i = 1  \\,\\wedge \\, y^{(j)}=1 ) }{2+\\sum_{j=1}^n I(y^{(j)}=1)}\\,,\\\\\n",
        "\t\\phi_{i\\mid y=0} &= \\frac{1+\\sum_{j=1}^n I(x^{(j)}_i = 1  \\,\\wedge \\, y^{(j)}=0 )}{2+\\sum_{j=1}^n I(y^{(j)}=0)}\\,,\\\\\n",
        "\t\t\\phi_{y=1} &= \\frac{1+\\sum_{j=1}^n I(y^{(j)} = 1)}{2+n} \\,.\n",
        "\\end{align*}\n",
        "Here $I$ denoted the indicator function. We used the laplace smoothing (thats why we have the $1+$ and $2+$) in order to make sure that we will not assume probability $0$ for unknown words.\n",
        "\n",
        "Now assume we get a new feature (i.e. someone sends us an email) $x \\in \\{0,1\\}^d$. Then we can calculate for each word $i=1,\\dots,d$ the probabilities\n",
        "\\begin{align*}\n",
        "P(x_i = 1 \\mid y=1) &= \\phi_{i\\mid y=1}\\,,\\qquad &&P(x_i = 1 \\mid y=0) = \\phi_{i\\mid y=0} \\,,\\\\\n",
        "P(x_i = 0 \\mid y=1) &= 1- \\phi_{i\\mid y=1}\\,,\\qquad &&P(x_i = 0 \\mid y=0) = 1-\\phi_{i\\mid y=0} \\,. \\\\\n",
        "\\end{align*}\n",
        "\n",
        "By the Naive Bayes assumption we have for $x \\in \\{0,1\\}^d$\n",
        "\\begin{align*}\n",
        "P(x \\mid y)  = \\prod_{i=1}^d P(x_j \\mid y)\\,.\n",
        "\\end{align*}\n",
        "The probability of the new email being spam is then\n",
        "\\begin{align*}\n",
        "P(y=1 \\mid x) &= \\frac{ P(x \\mid y=1) P(y=1)}{P(x)}\\\\\n",
        "&= \\frac{\\prod_{i=1}^d P(x_i \\mid y = 1) \\cdot \\phi_{y=1}}{\\prod_{i=1}^d P(x_i \\mid y = 1) \\cdot \\phi_{y=1} + \\prod_{i=1}^d P(x_i \\mid y = 0) (1-\\phi_{y=1})} := \\frac{A}{A+B}\\,.\n",
        "\\end{align*}\n"
      ]
    },
    {
      "cell_type": "markdown",
      "metadata": {
        "id": "3KdBdWJQINbe"
      },
      "source": [
        "# **Exercise 2:** \n",
        "Use the above explanation of the Naive Bayes Spam filter and implement a function which gives the probability of an email being spam given the trainings email above. \n"
      ]
    },
    {
      "cell_type": "code",
      "metadata": {
        "id": "8Ry9w9OtOFBi"
      },
      "source": [
        "# You can implement the above algorithm in any way you want.\n",
        "# One possible way:\n",
        "# - Calculate the phis here\n",
        "# - Write functions for the probability P(x|y) depending on these phis\n",
        "# - Use this function in the function spam_percentage \n",
        "\n",
        "def get_phi(X, Y):\n",
        "  result = np.empty((d, 2))\n",
        "\n",
        "  for i in range(d):\n",
        "    num0 = 1; num1 = 1; den0 = 2; den1 = 2\n",
        "    for j in range(n):\n",
        "      if X[j][i] == 1 and Y[j] == 1: num1 += 1\n",
        "      elif X[j][i] == 1 and Y[j] == 0: num0 += 1\n",
        "      if Y[j] == 1: den1 += 1\n",
        "      elif Y[j] == 0: den0 += 1\n",
        "    result[i] = [num0/den0, num1/den1]\n",
        "  return result\n",
        "\n",
        "def get_phi_y1(Y):\n",
        "  result = 1\n",
        "  for y in Y:\n",
        "    if y == 1: result += 1\n",
        "  return result / (2+n)\n",
        "\n",
        "X, Y = emails_to_test_samples(dictionary, test_emails)\n",
        "phi = get_phi(X, Y)\n",
        "phi_y1 = get_phi_y1(Y)\n",
        "#print(phi)\n",
        "#print(phi_y1)\n",
        "\n",
        "def P(x, y):\n",
        "  result = 1\n",
        "  for i in range(d):\n",
        "    if x[i] == 1:     result *= phi[i][y]\n",
        "    elif x[i] == 0:   result *= 1 - phi[i][y]\n",
        "  return result\n",
        "  \n",
        "\n",
        "def spam_percentage(email):\n",
        "  x = email_to_feature(dictionary, email)\n",
        "  A = phi_y1 * P(x, 1)\n",
        "  B = (1 - phi_y1) * P(x, 0)\n",
        "  return A/(A+B)\n"
      ],
      "execution_count": null,
      "outputs": []
    },
    {
      "cell_type": "markdown",
      "metadata": {
        "id": "d2ABCIxrT11Z"
      },
      "source": [
        "Test your spam filter with the following email.\n"
      ]
    },
    {
      "cell_type": "code",
      "metadata": {
        "id": "Zo_egC7AUYoq",
        "colab": {
          "base_uri": "https://localhost:8080/"
        },
        "outputId": "058a3d4f-df64-48a8-b197-9c9bc88080e3"
      },
      "source": [
        "email=\"the sun is shining. buy drugs now\"\n",
        "print(spam_percentage(email))\n",
        "print(spam_percentage(\"hello students, how are you today? lets buy drugs\"))\n",
        "print(spam_percentage(\"\"))"
      ],
      "execution_count": null,
      "outputs": [
        {
          "output_type": "stream",
          "text": [
            "0.9299429164504411\n",
            "0.5423728813559321\n",
            "0.892430278884462\n"
          ],
          "name": "stdout"
        }
      ]
    },
    {
      "cell_type": "markdown",
      "metadata": {
        "id": "82y_1mNLP6Lu"
      },
      "source": [
        "\n",
        "# **Exercise 3**\n",
        "Extend your spamfilter by creating a dynamical dictionary. Instead of starting with a fixed dictionary, you should now create a dictionary out of a list of emails. \n",
        "\n",
        "Write a function `create_dictionary(emails)` which returns a dictionary created from a list of emails (Give as an array of arrays `[text, spam\\nospam]`). Make sure that you do not include words more than once into the dictionary.\n",
        "To implement this function you should look up the function `split()` for a string in Python. To take care of the symbols \".\" and \",\" you can use the `replace()` function of a string."
      ]
    },
    {
      "cell_type": "code",
      "metadata": {
        "id": "1rvAqAkHz21D",
        "colab": {
          "base_uri": "https://localhost:8080/"
        },
        "outputId": "779c58c4-9bf9-42c2-bab8-2156393e7585"
      },
      "source": [
        "import re\n",
        "def create_dictionary(emails):\n",
        "  #ldict = np.empty(1, 'U')\n",
        "  ldict = []\n",
        "  for email, spam_indicator in emails:\n",
        "    words = re.findall(r'\\w+', email)\n",
        "    #print(words)\n",
        "    for word in words:\n",
        "      if not word in ldict:\n",
        "        list.append(ldict, word)\n",
        "  return ldict\n",
        "\n",
        "print(create_dictionary(test_emails))"
      ],
      "execution_count": null,
      "outputs": [
        {
          "output_type": "stream",
          "text": [
            "['hello', 'students', 'please', 'learn', 'for', 'the', 'exam', 'buy', 'drugs', 'today', 'sun', 'is', 'shining', 'in', 'nagoya', 'lets', 'sell', 'how', 'are', 'you', 'do', 'your', 'homework', 'want', 'free', 'solutions', 'hey', 'always', 'ask', 'questions', 'if', 'have', 'any', 'math', 'not', 'good', 'submit', 'pay']\n"
          ],
          "name": "stdout"
        }
      ]
    }
  ]
}